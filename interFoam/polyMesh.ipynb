{
 "cells": [
  {
   "cell_type": "code",
   "execution_count": 6,
   "metadata": {},
   "outputs": [
    {
     "name": "stdout",
     "output_type": "stream",
     "text": [
      "242\n"
     ]
    }
   ],
   "source": [
    "# parse points\n",
    "points = []\n",
    "with open('points') as f:\n",
    "    for _ in f:\n",
    "        if '(\\n'==_: break\n",
    "    for _ in f:\n",
    "        if ')\\n'==_: break\n",
    "        points.append(tuple(map(float, _.replace('\\n','').replace('(','').replace(')','').split(' '))))\n",
    "print(len(points))"
   ]
  },
  {
   "cell_type": "code",
   "execution_count": 7,
   "metadata": {},
   "outputs": [
    {
     "name": "stdout",
     "output_type": "stream",
     "text": [
      "420\n"
     ]
    }
   ],
   "source": [
    "# get faces formed by points\n",
    "# (assuming quads)\n",
    "faces = []\n",
    "with open('faces') as f:\n",
    "    for _ in f:\n",
    "        if '(\\n'==_: break\n",
    "    for _ in f:\n",
    "        if ')\\n'==_: break\n",
    "        faces.append(tuple(map(int, _.replace('\\n','').replace('4(','').replace(')','').split(' '))))\n",
    "print(len(faces))"
   ]
  },
  {
   "cell_type": "code",
   "execution_count": 8,
   "metadata": {},
   "outputs": [
    {
     "name": "stdout",
     "output_type": "stream",
     "text": [
      "420\n"
     ]
    }
   ],
   "source": [
    "# get face owners\n",
    "owner = []\n",
    "with open('owner') as f:\n",
    "    for _ in f:\n",
    "        if '(\\n'==_: break\n",
    "    for _ in f:\n",
    "        if ')\\n'==_: break\n",
    "        owner.append(int(_.replace('\\n','')))\n",
    "print(len(owner))"
   ]
  },
  {
   "cell_type": "code",
   "execution_count": 18,
   "metadata": {},
   "outputs": [
    {
     "name": "stdout",
     "output_type": "stream",
     "text": [
      "4\n",
      "(0.0, 0.01, 0.0)\n",
      "(0.01, 0.0, 0.0)\n",
      "(0.0, 0.0, 0.0)\n",
      "(0.01, 0.01, 0.0)\n"
     ]
    }
   ],
   "source": [
    "# form cell\n",
    "cell = [[] for _ in range(max(owner)+1)]\n",
    "for i,o in enumerate(owner):\n",
    "    cell[o].append(faces[i])\n",
    "for i,f in enumerate(cell):\n",
    "    l=[]\n",
    "    for p in f:\n",
    "        for _ in p:\n",
    "            # l.append(points[_])\n",
    "            if not points[_][2]>0: l.append(points[_])\n",
    "    cell[i]=(set(l))\n",
    "_=0\n",
    "print(len(cell[_]))\n",
    "# print(cell[_])\n",
    "for __ in cell[_]: print(__)"
   ]
  }
 ],
 "metadata": {
  "kernelspec": {
   "display_name": "Python 3.10.5 64-bit",
   "language": "python",
   "name": "python3"
  },
  "language_info": {
   "codemirror_mode": {
    "name": "ipython",
    "version": 3
   },
   "file_extension": ".py",
   "mimetype": "text/x-python",
   "name": "python",
   "nbconvert_exporter": "python",
   "pygments_lexer": "ipython3",
   "version": "3.10.5"
  },
  "orig_nbformat": 4,
  "vscode": {
   "interpreter": {
    "hash": "67bc8c7d543f88189c4c83231897ccf8ee31e5f0f95c41f216b9b9d9de9c77f9"
   }
  }
 },
 "nbformat": 4,
 "nbformat_minor": 2
}
