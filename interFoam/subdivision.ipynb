{
 "cells": [
  {
   "cell_type": "code",
   "execution_count": 86,
   "metadata": {},
   "outputs": [],
   "source": [
    "import matplotlib.pyplot as plt"
   ]
  },
  {
   "attachments": {},
   "cell_type": "markdown",
   "metadata": {},
   "source": [
    "### Subdivision method"
   ]
  },
  {
   "attachments": {},
   "cell_type": "markdown",
   "metadata": {},
   "source": [
    "#### Parse mesh  \n",
    "OpenFOAM _polyMesh_ directory stores the mesh data  \n",
    "_points_ file stores the vertices  \n",
    "_faces_ defines which vertices make up a face  \n",
    "_owner_ assigns the faces to cells"
   ]
  },
  {
   "cell_type": "code",
   "execution_count": 87,
   "metadata": {},
   "outputs": [
    {
     "name": "stdout",
     "output_type": "stream",
     "text": [
      "vertices: 242\n",
      "faces: 420\n",
      "cells: 100\n"
     ]
    }
   ],
   "source": [
    "# get vertices\n",
    "points = []\n",
    "with open('points') as f:\n",
    "    for _ in f:\n",
    "        if '(\\n'==_: break\n",
    "    for _ in f:\n",
    "        if ')\\n'==_: break\n",
    "        points.append(tuple(map(float, _.replace('\\n','').replace('(','').replace(')','').split(' '))))\n",
    "print(f'vertices: {len(points)}')\n",
    "# get faces formed by vertices\n",
    "# (assuming quads)\n",
    "faces = []\n",
    "with open('faces') as f:\n",
    "    for _ in f:\n",
    "        if '(\\n'==_: break\n",
    "    for _ in f:\n",
    "        if ')\\n'==_: break\n",
    "        faces.append(tuple(map(int, _.replace('\\n','').replace('4(','').replace(')','').split(' '))))\n",
    "print(f'faces: {len(faces)}')\n",
    "# get face owners\n",
    "owner = []\n",
    "with open('owner') as f:\n",
    "    for _ in f:\n",
    "        if '(\\n'==_: break\n",
    "    for _ in f:\n",
    "        if ')\\n'==_: break\n",
    "        owner.append(int(_.replace('\\n','')))\n",
    "# form cell\n",
    "cell = [[] for _ in range(max(owner)+1)]\n",
    "for i,o in enumerate(owner):\n",
    "    cell[o].append(faces[i])\n",
    "for i,f in enumerate(cell):\n",
    "    l=[]\n",
    "    for p in f:\n",
    "        for _ in p:\n",
    "            # l.append(points[_])\n",
    "            if not points[_][2]>0: l.append(points[_]) # XY-plane\n",
    "    cell[i]=(list(set(l)))\n",
    "print(f'cells: {len(cell)}')\n",
    "# print(cell[7])"
   ]
  },
  {
   "attachments": {},
   "cell_type": "markdown",
   "metadata": {},
   "source": [
    "#### Generate unit grid\n",
    "reference grid which is used to generate interpolation values"
   ]
  },
  {
   "cell_type": "code",
   "execution_count": 88,
   "metadata": {},
   "outputs": [
    {
     "data": {
      "image/png": "[encoded data removed]",
      "text/plain": [
       "<Figure size 432x288 with 1 Axes>"
      ]
     },
     "metadata": {
      "needs_background": "light"
     },
     "output_type": "display_data"
    }
   ],
   "source": [
    "g = [(0,0),(1,0),(0,1),(1,1)] # unit cell\n",
    "div = 20 # subdivisions\n",
    "G = [tuple(((x+0.5)/div,(y+0.5)/div)) for x in range(div) for y in range(div)] # unit grid\n",
    "plt.scatter(*(zip(*G)),color='y'); plt.scatter(*(zip(*g))); plt.axis('scaled'); # scatter plot of grid and cell vertices"
   ]
  },
  {
   "attachments": {},
   "cell_type": "markdown",
   "metadata": {},
   "source": [
    "#### Inverse interpolation function\n",
    "find interpolation values for each grid point with respect to the cell vertices  \n",
    "$\n",
    "G_j = i_j g_j\n",
    "$"
   ]
  },
  {
   "cell_type": "code",
   "execution_count": 89,
   "metadata": {},
   "outputs": [],
   "source": [
    "inv_intp = lambda p,P: tuple(p[_]/sum(__[_] for __ in P) for _ in range(2)) # inv intp function\n",
    "i = [inv_intp(_,g) for _ in G] # generate intp values\n",
    "# print(i[7])"
   ]
  },
  {
   "attachments": {},
   "cell_type": "markdown",
   "metadata": {},
   "source": [
    "#### Map to cells\n",
    "use interpolation values to map reference grid onto _cells_"
   ]
  },
  {
   "cell_type": "code",
   "execution_count": 90,
   "metadata": {},
   "outputs": [
    {
     "data": {
      "image/png": "[encoded data removed]",
      "text/plain": [
       "<Figure size 432x288 with 1 Axes>"
      ]
     },
     "metadata": {
      "needs_background": "light"
     },
     "output_type": "display_data"
    }
   ],
   "source": [
    "# issues\n",
    "intp = lambda p,i: tuple(sum([__[_]*i[_] for __ in p]) for _ in range(2)) # generate grid\n",
    "M = [(0,0),(3,1),(1,2),(4,4)] # test points\n",
    "G_ = [intp(M,_) for _ in i] # map grid onto new base\n",
    "plt.scatter(*zip(*G_),color='y'); plt.scatter(*zip(*M)); plt.axis('scaled');"
   ]
  },
  {
   "attachments": {},
   "cell_type": "markdown",
   "metadata": {},
   "source": [
    "#### Apply condition"
   ]
  },
  {
   "attachments": {},
   "cell_type": "markdown",
   "metadata": {},
   "source": [
    "#### Generate _alpha_"
   ]
  }
 ],
 "metadata": {
  "kernelspec": {
   "display_name": "Python 3.10.5 64-bit",
   "language": "python",
   "name": "python3"
  },
  "language_info": {
   "codemirror_mode": {
    "name": "ipython",
    "version": 3
   },
   "file_extension": ".py",
   "mimetype": "text/x-python",
   "name": "python",
   "nbconvert_exporter": "python",
   "pygments_lexer": "ipython3",
   "version": "3.10.5 (tags/v3.10.5:f377153, Jun  6 2022, 16:14:13) [MSC v.1929 64 bit (AMD64)]"
  },
  "orig_nbformat": 4,
  "vscode": {
   "interpreter": {
    "hash": "67bc8c7d543f88189c4c83231897ccf8ee31e5f0f95c41f216b9b9d9de9c77f9"
   }
  }
 },
 "nbformat": 4,
 "nbformat_minor": 2
}
