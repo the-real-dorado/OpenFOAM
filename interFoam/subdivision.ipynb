{
 "cells": [
  {
   "cell_type": "code",
   "execution_count": 46,
   "metadata": {},
   "outputs": [],
   "source": [
    "import matplotlib.pyplot as plt\n",
    "import numpy as np\n",
    "import cv2 as cv"
   ]
  },
  {
   "attachments": {},
   "cell_type": "markdown",
   "metadata": {},
   "source": [
    "### Subdivision method"
   ]
  },
  {
   "attachments": {},
   "cell_type": "markdown",
   "metadata": {},
   "source": [
    "#### Parse mesh  \n",
    "OpenFOAM _polyMesh_ directory stores the mesh data  \n",
    "_points_ file stores the vertices  \n",
    "_faces_ defines which vertices make up a face  \n",
    "_owner_ assigns the faces to cells"
   ]
  },
  {
   "cell_type": "code",
   "execution_count": 47,
   "metadata": {},
   "outputs": [
    {
     "name": "stdout",
     "output_type": "stream",
     "text": [
      "vertices: 242\n",
      "faces: 420\n",
      "cells: 100\n"
     ]
    }
   ],
   "source": [
    "# get vertices\n",
    "points = []\n",
    "with open('points') as f:\n",
    "    for _ in f:\n",
    "        if '(\\n'==_: break\n",
    "    for _ in f:\n",
    "        if ')\\n'==_: break\n",
    "        points.append(tuple(map(float, _.replace('\\n','').replace('(','').replace(')','').split(' '))))\n",
    "print(f'vertices: {len(points)}')\n",
    "# get faces formed by vertices\n",
    "# (assuming quads)\n",
    "faces = []\n",
    "with open('faces') as f:\n",
    "    for _ in f:\n",
    "        if '(\\n'==_: break\n",
    "    for _ in f:\n",
    "        if ')\\n'==_: break\n",
    "        faces.append(tuple(map(int, _.replace('\\n','').replace('4(','').replace(')','').split(' '))))\n",
    "print(f'faces: {len(faces)}')\n",
    "# get face owners\n",
    "owner = []\n",
    "with open('owner') as f:\n",
    "    for _ in f:\n",
    "        if '(\\n'==_: break\n",
    "    for _ in f:\n",
    "        if ')\\n'==_: break\n",
    "        owner.append(int(_.replace('\\n','')))\n",
    "# form cell\n",
    "cell = [[] for _ in range(max(owner)+1)]\n",
    "for i,o in enumerate(owner):\n",
    "    cell[o].append(faces[i])\n",
    "for i,f in enumerate(cell):\n",
    "    l=[]\n",
    "    for p in f:\n",
    "        for _ in p:\n",
    "            # l.append(points[_])\n",
    "            if not points[_][2]>0: l.append(points[_]) # XY-plane\n",
    "    cell[i]=(list(set(l)))\n",
    "print(f'cells: {len(cell)}')\n",
    "# print(cell[7])"
   ]
  },
  {
   "attachments": {},
   "cell_type": "markdown",
   "metadata": {},
   "source": [
    "#### Generate unit grid\n",
    "reference grid which is used to generate interpolation values"
   ]
  },
  {
   "cell_type": "code",
   "execution_count": 48,
   "metadata": {},
   "outputs": [
    {
     "data": {
      "image/png": "[encoded data removed]",
      "text/plain": [
       "<Figure size 432x288 with 1 Axes>"
      ]
     },
     "metadata": {
      "needs_background": "light"
     },
     "output_type": "display_data"
    }
   ],
   "source": [
    "g = [(0,0),(1,0),(0,1),(1,1)] # unit cell\n",
    "div = 16 # subdivisions\n",
    "G = [list(((x+0.5)/div,(y+0.5)/div)) for x in range(div) for y in range(div)] # unit grid\n",
    "plt.scatter(*(zip(*G)),color='y'); plt.scatter(*(zip(*g))); plt.axis('scaled'); # scatter plot of grid and cell vertices"
   ]
  },
  {
   "attachments": {},
   "cell_type": "markdown",
   "metadata": {},
   "source": [
    "#### Projective Transformation"
   ]
  },
  {
   "cell_type": "code",
   "execution_count": 49,
   "metadata": {},
   "outputs": [],
   "source": [
    "g = np.float32(g)\n",
    "G = np.float32(G)\n",
    "t = np.float32([[0,0],[3,1],[1,4],[5,3]]) # test points\n",
    "M = cv.getPerspectiveTransform(g,t)\n",
    "T = cv.perspectiveTransform(G[None,:,:],M).reshape((div*div,2))"
   ]
  },
  {
   "attachments": {},
   "cell_type": "markdown",
   "metadata": {},
   "source": [
    "#### Map to cells"
   ]
  },
  {
   "cell_type": "code",
   "execution_count": 50,
   "metadata": {},
   "outputs": [
    {
     "data": {
      "image/png": "[encoded data removed]",
      "text/plain": [
       "<Figure size 432x288 with 1 Axes>"
      ]
     },
     "metadata": {
      "needs_background": "light"
     },
     "output_type": "display_data"
    }
   ],
   "source": [
    "plt.scatter(*zip(*T),color='y'); plt.scatter(*zip(*t)); plt.axis('scaled');"
   ]
  },
  {
   "attachments": {},
   "cell_type": "markdown",
   "metadata": {},
   "source": [
    "#### Apply condition"
   ]
  },
  {
   "attachments": {},
   "cell_type": "markdown",
   "metadata": {},
   "source": [
    "#### Generate _alpha_"
   ]
  }
 ],
 "metadata": {
  "kernelspec": {
   "display_name": "Python 3",
   "language": "python",
   "name": "python3"
  },
  "language_info": {
   "codemirror_mode": {
    "name": "ipython",
    "version": 3
   },
   "file_extension": ".py",
   "mimetype": "text/x-python",
   "name": "python",
   "nbconvert_exporter": "python",
   "pygments_lexer": "ipython3",
   "version": "3.10.5"
  },
  "orig_nbformat": 4,
  "vscode": {
   "interpreter": {
    "hash": "67bc8c7d543f88189c4c83231897ccf8ee31e5f0f95c41f216b9b9d9de9c77f9"
   }
  }
 },
 "nbformat": 4,
 "nbformat_minor": 2
}
