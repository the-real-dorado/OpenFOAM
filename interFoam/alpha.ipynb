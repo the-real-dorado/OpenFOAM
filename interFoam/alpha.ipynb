{
 "cells": [
  {
   "cell_type": "code",
   "execution_count": 1,
   "metadata": {},
   "outputs": [],
   "source": [
    "import numpy as np\n",
    "import matplotlib.pyplot as plt"
   ]
  },
  {
   "cell_type": "code",
   "execution_count": 2,
   "metadata": {},
   "outputs": [],
   "source": [
    "sizeX,sizeY = 1,1 # later replace with n, cause map\n",
    "nX,nY = 10,10\n",
    "subX,subY = 10,10\n",
    "v = []\n",
    "for x,y in [(x,y) for x in range(nX*subX) for y in range(nY*subY)]:\n",
    "        v.append((sizeX/nX*(x+0.5)/subX,\n",
    "                  sizeY/nY*(y+0.5)/subY))\n",
    "V = []\n",
    "for x,y in [(x,y) for x in range(nX) for y in range(nY)]:\n",
    "        V.append((sizeX/nX*(x+0.5),\n",
    "                  sizeY/nY*(y+0.5)))\n",
    "# x,y = zip(*v)\n",
    "# plt.figure(figsize=(5,5))\n",
    "# plt.scatter(x,y,marker='.')\n",
    "# plt.axis('scaled')\n",
    "# plt.xticks(np.linspace(0,sizeX,nX+1))\n",
    "# plt.yticks(np.linspace(0,sizeY,nY+1))\n",
    "# plt.grid()\n",
    "# plt.show()"
   ]
  },
  {
   "cell_type": "code",
   "execution_count": 3,
   "metadata": {},
   "outputs": [],
   "source": [
    "# condition = lambda _: ( _[0]+_[1] > 0.5 )\n",
    "condition = lambda _: _[0]**2 + _[1]**2 < 1"
   ]
  },
  {
   "cell_type": "code",
   "execution_count": 4,
   "metadata": {},
   "outputs": [],
   "source": [
    "m = np.array([1 if condition(_) else 0 for _ in v]).reshape([nX*subX,nY*subY])\n",
    "# print(m)\n",
    "# print()\n",
    "M = np.array([1 if condition(_) else 0 for _ in V]).reshape([nX,nY])\n",
    "# print(M)"
   ]
  },
  {
   "cell_type": "code",
   "execution_count": 5,
   "metadata": {},
   "outputs": [
    {
     "name": "stdout",
     "output_type": "stream",
     "text": [
      "1.0\n",
      "1.0\n",
      "1.0\n",
      "1.0\n",
      "1.0\n",
      "1.0\n",
      "1.0\n",
      "1.0\n",
      "1.0\n",
      "1.0\n",
      "1.0\n",
      "1.0\n",
      "1.0\n",
      "1.0\n",
      "1.0\n",
      "1.0\n",
      "1.0\n",
      "1.0\n",
      "1.0\n",
      "0.87\n",
      "1.0\n",
      "1.0\n",
      "1.0\n",
      "1.0\n",
      "1.0\n",
      "1.0\n",
      "1.0\n",
      "1.0\n",
      "1.0\n",
      "0.68\n",
      "1.0\n",
      "1.0\n",
      "1.0\n",
      "1.0\n",
      "1.0\n",
      "1.0\n",
      "1.0\n",
      "1.0\n",
      "1.0\n",
      "0.36\n",
      "1.0\n",
      "1.0\n",
      "1.0\n",
      "1.0\n",
      "1.0\n",
      "1.0\n",
      "1.0\n",
      "1.0\n",
      "0.9\n",
      "0.03\n",
      "1.0\n",
      "1.0\n",
      "1.0\n",
      "1.0\n",
      "1.0\n",
      "1.0\n",
      "1.0\n",
      "1.0\n",
      "0.34\n",
      "0.0\n",
      "1.0\n",
      "1.0\n",
      "1.0\n",
      "1.0\n",
      "1.0\n",
      "1.0\n",
      "1.0\n",
      "0.6\n",
      "0.0\n",
      "0.0\n",
      "1.0\n",
      "1.0\n",
      "1.0\n",
      "1.0\n",
      "1.0\n",
      "1.0\n",
      "0.6\n",
      "0.01\n",
      "0.0\n",
      "0.0\n",
      "1.0\n",
      "1.0\n",
      "1.0\n",
      "1.0\n",
      "0.9\n",
      "0.34\n",
      "0.0\n",
      "0.0\n",
      "0.0\n",
      "0.0\n",
      "1.0\n",
      "0.87\n",
      "0.68\n",
      "0.36\n",
      "0.03\n",
      "0.0\n",
      "0.0\n",
      "0.0\n",
      "0.0\n",
      "0.0\n"
     ]
    }
   ],
   "source": [
    "M_ = np.zeros_like(M)\n",
    "s = 0\n",
    "for i,j in [(i,j) for i in range(nX) for j in range(nY)]:\n",
    "    x=sum(m[x,y] for x in range(i*subX,(i+1)*subX) for y in range(j*subY,(j+1)*subY)) / (subX*subY)\n",
    "    s+=x*(sizeX/nX*sizeY/nY)\n",
    "    print(x) # OpenFOAM alpha output\n",
    "# print(s)\n",
    "# M = M_.reshape(nX*nY).tolist()\n",
    "# for _ in M: print(_)"
   ]
  },
  {
   "cell_type": "code",
   "execution_count": 6,
   "metadata": {},
   "outputs": [
    {
     "data": {
      "text/plain": [
       "0.785"
      ]
     },
     "execution_count": 6,
     "metadata": {},
     "output_type": "execute_result"
    }
   ],
   "source": [
    "3.14/4"
   ]
  },
  {
   "cell_type": "markdown",
   "metadata": {},
   "source": [
    "---"
   ]
  },
  {
   "cell_type": "code",
   "execution_count": 7,
   "metadata": {},
   "outputs": [
    {
     "data": {
      "image/png": "[encoded data removed]",
      "text/plain": [
       "<Figure size 504x360 with 1 Axes>"
      ]
     },
     "metadata": {
      "needs_background": "light"
     },
     "output_type": "display_data"
    }
   ],
   "source": [
    "# plt.style.use('ggplot')\n",
    "l = []\n",
    "a = np.pi/4\n",
    "for _ in (n:=range(1,20+1)):\n",
    "        sizeX,sizeY = 1,1 # later replace with n, cause map\n",
    "        nX,nY = 10,10\n",
    "        subX,subY = _,_\n",
    "        v = []\n",
    "        for x,y in [(x,y) for x in range(nX*subX) for y in range(nY*subY)]:\n",
    "                v.append((sizeX/nX*(x+0.5)/subX,\n",
    "                        sizeY/nY*(y+0.5)/subY))\n",
    "        V = []\n",
    "        for x,y in [(x,y) for x in range(nX) for y in range(nY)]:\n",
    "                V.append((sizeX/nX*(x+0.5),\n",
    "                        sizeY/nY*(y+0.5)))\n",
    "        condition = lambda _: _[0]**2 + _[1]**2 < 1\n",
    "        m = np.array([1 if condition(_) else 0 for _ in v]).reshape([nX*subX,nY*subY])\n",
    "        M = np.array([1 if condition(_) else 0 for _ in V]).reshape([nX,nY])\n",
    "        M_ = np.zeros_like(M)\n",
    "        s = 0\n",
    "        for i,j in [(i,j) for i in range(nX) for j in range(nY)]:\n",
    "                x=sum(m[x,y] for x in range(i*subX,(i+1)*subX) for y in range(j*subY,(j+1)*subY)) / (subX*subY)\n",
    "                s+=x*(sizeX/nX*sizeY/nY)\n",
    "\n",
    "        l.append(100*(s-a)/a)\n",
    "plt.figure(figsize=(7,5))\n",
    "plt.plot(n,l)\n",
    "plt.axhline(0,color='k')\n",
    "plt.xlabel('subdivision factor')\n",
    "plt.ylabel('area error [%]')\n",
    "plt.xlim(1,10)\n",
    "plt.title('QUARTER UNIT CIRCLE (base mesh 10x10)')\n",
    "plt.savefig('error',dpi=300,facecolor='white')"
   ]
  },
  {
   "cell_type": "code",
   "execution_count": 8,
   "metadata": {},
   "outputs": [],
   "source": [
    "# figure, axes = plt.subplots(figsize=(10,10))\n",
    "# plt.xlim(0,9)\n",
    "# plt.ylim(0,9)\n",
    "# plt.axis('scaled')\n",
    "# plt.axhline(0,color='k')\n",
    "# plt.axhline(3,color='k')\n",
    "# plt.axhline(6,color='k')\n",
    "# plt.axhline(9,color='k')\n",
    "# plt.axvline(0,color='k')\n",
    "# plt.axvline(3,color='k')\n",
    "# plt.axvline(6,color='k')\n",
    "# plt.axvline(9,color='k')\n",
    "# plt.xticks(range(9))\n",
    "# plt.yticks(range(9))\n",
    "# axes.add_artist(plt.Circle((4.5,4.5),4))\n",
    "# plt.grid()\n",
    "# plt.show()"
   ]
  }
 ],
 "metadata": {
  "kernelspec": {
   "display_name": "Python 3.10.5 64-bit",
   "language": "python",
   "name": "python3"
  },
  "language_info": {
   "codemirror_mode": {
    "name": "ipython",
    "version": 3
   },
   "file_extension": ".py",
   "mimetype": "text/x-python",
   "name": "python",
   "nbconvert_exporter": "python",
   "pygments_lexer": "ipython3",
   "version": "3.10.5"
  },
  "orig_nbformat": 4,
  "vscode": {
   "interpreter": {
    "hash": "67bc8c7d543f88189c4c83231897ccf8ee31e5f0f95c41f216b9b9d9de9c77f9"
   }
  }
 },
 "nbformat": 4,
 "nbformat_minor": 2
}
