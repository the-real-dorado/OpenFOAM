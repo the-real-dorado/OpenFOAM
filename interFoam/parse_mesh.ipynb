{
 "cells": [
  {
   "cell_type": "markdown",
   "metadata": {},
   "source": [
    "Visualize the mesh `vertices` in `blockMeshDict`"
   ]
  },
  {
   "cell_type": "code",
   "execution_count": 1,
   "metadata": {},
   "outputs": [
    {
     "data": {
      "text/plain": [
       "24"
      ]
     },
     "execution_count": 1,
     "metadata": {},
     "output_type": "execute_result"
    }
   ],
   "source": [
    "with open('points.txt') as f:\n",
    "    lines = f.readlines()\n",
    "    lines = lines[2:-1]\n",
    "    lines = [_.replace('    ','') for _ in lines]\n",
    "    lines = [_.replace('(','') for _ in lines]\n",
    "    lines = [_.replace(')','') for _ in lines]\n",
    "    lines = [_.replace('\\n','') for _ in lines]\n",
    "    lines = [_.replace(' ',',') for _ in lines]\n",
    "    lines = [tuple(map(float, _.split(','))) for _ in lines]\n",
    "len(lines)"
   ]
  },
  {
   "cell_type": "code",
   "execution_count": 2,
   "metadata": {},
   "outputs": [
    {
     "data": {
      "image/png": "[encoded data removed]",
      "text/plain": [
       "<Figure size 432x288 with 1 Axes>"
      ]
     },
     "metadata": {
      "needs_background": "light"
     },
     "output_type": "display_data"
    }
   ],
   "source": [
    "lines = lines[:12]\n",
    "x,y,z = tuple(zip(*lines))\n",
    "import matplotlib.pyplot as plt\n",
    "plt.scatter(x,y)\n",
    "for i,v in enumerate(tuple(zip(x,y))): plt.text(v[0],v[1],str(i))\n",
    "plt.axis('equal')\n",
    "# plt.savefig('vertices.png',dpi=200)"
   ]
  }
 ],
 "metadata": {
  "kernelspec": {
   "display_name": "Python 3.10.5 64-bit",
   "language": "python",
   "name": "python3"
  },
  "language_info": {
   "codemirror_mode": {
    "name": "ipython",
    "version": 3
   },
   "file_extension": ".py",
   "mimetype": "text/x-python",
   "name": "python",
   "nbconvert_exporter": "python",
   "pygments_lexer": "ipython3",
   "version": "3.10.5"
  },
  "orig_nbformat": 4,
  "vscode": {
   "interpreter": {
    "hash": "67bc8c7d543f88189c4c83231897ccf8ee31e5f0f95c41f216b9b9d9de9c77f9"
   }
  }
 },
 "nbformat": 4,
 "nbformat_minor": 2
}
