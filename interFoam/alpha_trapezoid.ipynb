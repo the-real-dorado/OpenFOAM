{
 "cells": [
  {
   "cell_type": "code",
   "execution_count": 1,
   "metadata": {},
   "outputs": [],
   "source": [
    "import numpy as np\n",
    "import matplotlib.pyplot as plt"
   ]
  },
  {
   "cell_type": "code",
   "execution_count": 2,
   "metadata": {},
   "outputs": [],
   "source": [
    "# set where alpha = 1\n",
    "condition = lambda _: _[0]**2 + _[1]**2 < 1"
   ]
  },
  {
   "cell_type": "code",
   "execution_count": 3,
   "metadata": {},
   "outputs": [],
   "source": [
    "sizeX,sizeY = 1,1\n",
    "nX,nY = 10,10\n",
    "V = []\n",
    "for x,y in [(x,y) for x in range(nX) for y in range(nY)]:\n",
    "        V.append((sizeX/nX*(x+0.5),\n",
    "                  sizeY/nY*(y+0.5)))\n",
    "M = []\n",
    "div = 200 # linspace\n",
    "dX,dY = sizeX/nX,sizeY/nY\n",
    "A = dX*dY\n",
    "dX,dY = dX/2,dY/2\n",
    "i = 0\n",
    "for p in V:\n",
    "    c = {_:condition(_) for _ in [(p[0]+dX,p[1]+dY),(p[0]+dX,p[1]-dY),(p[0]-dX,p[1]+dY),(p[0]-dX,p[1]-dY)]} # condition at nodes\n",
    "    if all(_ == list(c.values())[0] for _ in list(c.values())): # if values equal, great\n",
    "        M.append(1 if list(c.values())[0] else 0)\n",
    "    else: # integrate\n",
    "        s = []\n",
    "        s1 = [(p[0]+dX,_) for _ in np.linspace(p[1]-dY,p[1]+dY,div)] # cell borders\n",
    "        s2 = [(p[0]-dX,_) for _ in np.linspace(p[1]-dY,p[1]+dY,div)]\n",
    "        s3 = [(_,p[1]+dY) for _ in np.linspace(p[0]-dX,p[0]+dX,div)]\n",
    "        s4 = [(_,p[1]-dY) for _ in np.linspace(p[0]-dX,p[0]+dX,div)]\n",
    "        for _ in [s1,s2,s3,s4]:\n",
    "            for i in range(len(_)-1): \n",
    "                if condition(_[i])!=condition(_[i+1]): s.append(_[i+1]) # the two interface intersection points\n",
    "        e = [_ for _ in c.keys() if c.get(_) == True ] # True points for integration direction\n",
    "        #finding area\n",
    "        if len(e)==3: # triangle\n",
    "            e = [_ for _ in c.keys() if c.get(_) == False ] # next if\n",
    "        if len(e)==1: # triangle\n",
    "            'abs needed?'\n",
    "            x = abs(abs(e[0][0]-s[0][0])-abs(e[0][0]-s[1][0]))\n",
    "            y = abs(abs(e[0][1]-s[0][1])-abs(e[0][1]-s[1][1]))\n",
    "            M.append(a := 0.5*x*y/A if condition(e[0]) else 1-0.5*x*y/A) # if previous if\n",
    "        if len(e)==2: # trapezoid\n",
    "            h = [min([((_[0]-s[0][0])**2+(_[1]-s[0][1])**2)**0.5,\n",
    "                      ((_[0]-s[1][0])**2+(_[1]-s[1][1])**2)**0.5]) for _ in e]\n",
    "            if abs(e[0][0]-e[1][0]) > abs(e[0][1]-e[1][1]): d = dX*2\n",
    "            else: d = dY*2\n",
    "            M.append((0.5*d*(h[0]+h[1]))/A)\n",
    "# for _ in M: print(_) # OpenFOAM alpha output"
   ]
  },
  {
   "cell_type": "markdown",
   "metadata": {},
   "source": [
    "---"
   ]
  },
  {
   "cell_type": "code",
   "execution_count": 4,
   "metadata": {},
   "outputs": [
    {
     "data": {
      "image/png": "[encoded data removed]",
      "text/plain": [
       "<Figure size 504x360 with 1 Axes>"
      ]
     },
     "metadata": {},
     "output_type": "display_data"
    }
   ],
   "source": [
    "plt.style.use('ggplot')\n",
    "l = []\n",
    "for _ in (n:=(10,20,40,80,160)):\n",
    "    sizeX,sizeY = 1,1\n",
    "    nX,nY = _,_\n",
    "    V = []\n",
    "    for x,y in [(x,y) for x in range(nX) for y in range(nY)]:\n",
    "            V.append((sizeX/nX*(x+0.5),\n",
    "                    sizeY/nY*(y+0.5)))\n",
    "    M = []\n",
    "    div = 200\n",
    "    dX,dY = sizeX/nX,sizeY/nY\n",
    "    A = dX*dY\n",
    "    dX,dY = dX/2,dY/2\n",
    "    i = 0\n",
    "    for p in V:\n",
    "        c = {_:condition(_) for _ in [(p[0]+dX,p[1]+dY),(p[0]+dX,p[1]-dY),(p[0]-dX,p[1]+dY),(p[0]-dX,p[1]-dY)]} \n",
    "        if all(_ == list(c.values())[0] for _ in list(c.values())): \n",
    "            M.append(1 if list(c.values())[0] else 0)\n",
    "        else: \n",
    "            s = []\n",
    "            s1 = [(p[0]+dX,_) for _ in np.linspace(p[1]-dY,p[1]+dY,div)] \n",
    "            s2 = [(p[0]-dX,_) for _ in np.linspace(p[1]-dY,p[1]+dY,div)]\n",
    "            s3 = [(_,p[1]+dY) for _ in np.linspace(p[0]-dX,p[0]+dX,div)]\n",
    "            s4 = [(_,p[1]-dY) for _ in np.linspace(p[0]-dX,p[0]+dX,div)]\n",
    "            for _ in [s1,s2,s3,s4]:\n",
    "                for i in range(len(_)-1): \n",
    "                    if condition(_[i])!=condition(_[i+1]): s.append(_[i+1]) \n",
    "            e = [_ for _ in c.keys() if c.get(_) == True ] \n",
    "            if len(e)==3: \n",
    "                e = [_ for _ in c.keys() if c.get(_) == False ] \n",
    "            if len(e)==1: \n",
    "                'abs needed?'\n",
    "                x = abs(abs(e[0][0]-s[0][0])-abs(e[0][0]-s[1][0]))\n",
    "                y = abs(abs(e[0][1]-s[0][1])-abs(e[0][1]-s[1][1]))\n",
    "                M.append(a := 0.5*x*y/A if condition(e[0]) else 1-0.5*x*y/A) \n",
    "            if len(e)==2: \n",
    "                h = [min([((_[0]-s[0][0])**2+(_[1]-s[0][1])**2)**0.5,\n",
    "                        ((_[0]-s[1][0])**2+(_[1]-s[1][1])**2)**0.5]) for _ in e]\n",
    "                if abs(e[0][0]-e[1][0]) > abs(e[0][1]-e[1][1]): d = dX*2\n",
    "                else: d = dY*2\n",
    "                M.append((0.5*d*(h[0]+h[1]))/A)\n",
    "    l.append(abs(100*(sum([_*(sizeX/nX*sizeY/nY) for _ in M])-0.785)/0.785))\n",
    "plt.figure(figsize=(7,5))\n",
    "plt.plot(n,l)\n",
    "plt.xlabel('N')\n",
    "plt.ylabel('area error [%]')\n",
    "plt.xlim(n[0],n[-1])\n",
    "plt.xticks(n)\n",
    "plt.title('QUARTER UNIT CIRCLE (base mesh NxN)')\n",
    "plt.savefig('error',dpi=300,facecolor='white')"
   ]
  }
 ],
 "metadata": {
  "kernelspec": {
   "display_name": "Python 3.9.12 ('base')",
   "language": "python",
   "name": "python3"
  },
  "language_info": {
   "codemirror_mode": {
    "name": "ipython",
    "version": 3
   },
   "file_extension": ".py",
   "mimetype": "text/x-python",
   "name": "python",
   "nbconvert_exporter": "python",
   "pygments_lexer": "ipython3",
   "version": "3.9.12"
  },
  "orig_nbformat": 4,
  "vscode": {
   "interpreter": {
    "hash": "83d3e3e0be5e0c363184d9b30c49d75882819a5282e25ad74321426e6f8c255f"
   }
  }
 },
 "nbformat": 4,
 "nbformat_minor": 2
}
